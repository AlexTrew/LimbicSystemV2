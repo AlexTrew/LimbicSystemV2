{
 "cells": [
  {
   "cell_type": "markdown",
   "metadata": {},
   "source": [
    "To calculate the probability of an agent at the boundary of a circle of radius R\n",
    "with an angle of vision 45 degrees, seeing the centre of a target of radius delta.\n",
    "\n",
    "r = R-delta\n",
    "centre of target must be on or inside circle of radius r.\n",
    "\n",
    "Lines defining area of vision of the agent are\n",
    "y=x/2+R and y=-(x/2+R) (assume that the agent is at the edge of the circle radius R, x =0).\n",
    "\n",
    "centre of the target can be anywhere with a circle of radius r (inside the circle of radius R) except in the sectors above and below where those lines (the chords) intersect the circle.\n",
    "\n",
    "\n",
    "If S1 and S2 are the areas above those chords, then S1=S2=S say. If A is the area of the circle of radius r,  then probability of agent seeing target is\n",
    "(A-2S)/A"
   ]
  },
  {
   "cell_type": "code",
   "execution_count": 24,
   "metadata": {},
   "outputs": [
    {
     "name": "stdout",
     "output_type": "stream",
     "text": [
      "Original angle is -0.0\n",
      "Other angles are: 22.5 and -22.5\n",
      "Intersection points of first line with circle are: [-45.0, 31.81980515339464]\n",
      "Intersection points of second line with circle are: [-45.0, 31.81980515339464]\n"
     ]
    },
    {
     "data": {
      "image/png": "[encoded data removed]",
      "text/plain": [
       "<Figure size 432x288 with 1 Axes>"
      ]
     },
     "metadata": {},
     "output_type": "display_data"
    }
   ],
   "source": [
    "#Try to draw an example\n",
    "import numpy as np \n",
    "import matplotlib.pyplot as plt\n",
    "import math\n",
    "import sys\n",
    "\n",
    "def solve_quadratic2(a,b,c):\n",
    "    #print(\"a,b and c are: \" + str(a) + \",\" + str(b) + \",\" + str(c))\n",
    "    solns = []\n",
    "    val1 = -b/(2*a)\n",
    "    val2 = ((b*b) - 4*a*c)\n",
    "    val3 = ((b*b) - 4*a*c)/(4*a*a)\n",
    "    #print(\"val2 is \" + str(val2))\n",
    "    if val3<0:\n",
    "        print(\"No solutions to quadratic\")\n",
    "    else:\n",
    "        val4= math.sqrt(val3)\n",
    "        solns.append(val1-val4)\n",
    "        solns.append(val1+val4)\n",
    "    \n",
    "    return solns\n",
    "\n",
    "R=45\n",
    "delta = 30\n",
    "#point of interest\n",
    "x0 = -(4*R)/4\n",
    "y0 = math.sqrt(R*R - x0*x0)\n",
    "#alpha = (1*math.pi/8) #angle of arrival with respect to perp to tangent (spoke)\n",
    "alpha=0\n",
    "r=R-delta\n",
    "\n",
    "angle0 = math.atan(y0/x0)\n",
    "angle1 = math.atan(y0/x0) + alpha + math.pi/8\n",
    "angle2 = math.atan(y0/x0) + alpha - math.pi/8\n",
    "print(\"Original angle is \" + str(math.degrees(angle0)))\n",
    "print(\"Other angles are: \" + str(math.degrees(angle1)) + \" and \" +str(math.degrees(angle2)))\n",
    "\n",
    "xmin = -(R+2)  \n",
    "xmax = R+2\n",
    "ymin = -(R+2)\n",
    "ymax = (R+2)\n",
    "\n",
    "\n",
    "if (not (abs(angle1)==math.pi/2 or abs(angle1)==3*math.pi/2)): \n",
    "    m1 = math.tan(angle1)\n",
    "    c1 = y0 - m1*x0\n",
    "else:\n",
    "    m1 =100\n",
    "    \n",
    "if (not (abs(angle2)==math.pi/2 or abs(angle2)==3*math.pi/2)):     \n",
    "    m2 = math.tan(angle2)\n",
    "    c2 = y0 - m2*x0\n",
    "else: m2 = -100\n",
    "    \n",
    "m3 = (m1+m2)/2  #grad of line of travel\n",
    "c3 = y0 - m3*x0\n",
    "\n",
    "def line1(x):\n",
    "    return (m1*x + c1)\n",
    "\n",
    "def line2(x):\n",
    "    return (m2*x +c2)\n",
    "\n",
    "def line3(x):\n",
    "    return (m3*x +c3)\n",
    "\n",
    "def create_circle(x0,y0,rad,str):\n",
    "    circle= plt.Circle((x0,y0), radius= rad, fill=False, color = str)\n",
    "    return circle\n",
    "\n",
    "\n",
    "\n",
    "\n",
    "circle1 = create_circle(0,0,R,'r')\n",
    "circle2 = create_circle(0,0,r,'b')\n",
    "\n",
    "ax = plt.gca();\n",
    "ax.add_artist(circle1); \n",
    "ax.add_artist(circle2);\n",
    "ax.set_xlim(xmin, xmax); \n",
    "ax.set_ylim(ymin, ymax)\n",
    "ax.set_aspect('equal')\n",
    "\n",
    "solns1 = solve_quadratic2(1+m1*m1, 2*m1*c1, c1*c1 - R*R)\n",
    "#solns1.sort()\n",
    "solns2 = solve_quadratic2(1+m2*m2, 2*m2*c2, c2*c2 - R*R)\n",
    "#solns2.sort()\n",
    "solns3 = solve_quadratic2(1+m3*m3, 2*m3*c3, c3*c3 - R*R)\n",
    "\n",
    "print(\"Intersection points of first line with circle are: \" + str(solns1))\n",
    "print(\"Intersection points of second line with circle are: \" + str(solns2))\n",
    "    \n",
    "if (not (abs(angle1)==math.pi/2 or abs(angle1)==3*math.pi/2)): \n",
    "    plt.plot([solns1[0], solns1[1]],[line1(solns1[0]),line1(solns1[1])],'g')\n",
    "    \n",
    "else:\n",
    "    plt.plot([x0, x0],[y0,-y0],'g')\n",
    "\n",
    "if (not (abs(angle2)==math.pi/2 or abs(angle2)==3*math.pi/2)): \n",
    "    plt.plot([solns2[0], solns2[1]],[line2(solns2[0]),line2(solns2[1])],'g')\n",
    "\n",
    "else:\n",
    "    plt.plot([x0, x0],[y0,-y0],'g')\n",
    "    \n",
    "plt.plot([solns3[0], solns3[1]],[line3(solns2[0]),line3(solns3[1])],'k--')\n",
    "\n",
    "\n",
    "\n",
    "#plt.plot([x0,0],[y0,0])\n",
    "plt.savefig('example1.png') \n",
    "plt.plot()\n",
    "plt.show()\n"
   ]
  },
  {
   "cell_type": "code",
   "execution_count": 21,
   "metadata": {},
   "outputs": [
    {
     "name": "stdout",
     "output_type": "stream",
     "text": [
      "No solutions to quadratic\n",
      "graceful exit\n"
     ]
    },
    {
     "ename": "SystemExit",
     "evalue": "",
     "output_type": "error",
     "traceback": [
      "An exception has occurred, use %tb to see the full traceback.\n",
      "\u001b[0;31mSystemExit\u001b[0m\n"
     ]
    },
    {
     "name": "stderr",
     "output_type": "stream",
     "text": [
      "/home/alex/anaconda3/lib/python3.6/site-packages/IPython/core/interactiveshell.py:2971: UserWarning: To exit: use 'exit', 'quit', or Ctrl-D.\n",
      "  warn(\"To exit: use 'exit', 'quit', or Ctrl-D.\", stacklevel=1)\n"
     ]
    }
   ],
   "source": [
    "\n",
    "\n",
    "def solve_quadratic(a,b,c):\n",
    "    #print(\"a,b and c are: \" + str(a) + \",\" + str(b) + \",\" + str(c))\n",
    "    solns = []\n",
    "    val1 = -b/(2*a)\n",
    "    val2 = ((b*b) - 4*a*c)\n",
    "    val3 = ((b*b) - 4*a*c)/(4*a*a)\n",
    "    #print(\"val2 is \" + str(val2))\n",
    "    if val3<0:\n",
    "        print(\"No solutions to quadratic\")\n",
    "    else:\n",
    "        val4= math.sqrt(val3)\n",
    "        solns.append(val1-val4)\n",
    "        solns.append(val1+val4)\n",
    "    \n",
    "    return solns\n",
    "\n",
    "def sector_angle(y0,y1,r):\n",
    "    theta0 = math.degrees(math.asin(y0/r))\n",
    "    #print(\"theta_0 is \" + str(theta0))\n",
    "    theta1 = math.degrees(math.asin(y1/r))\n",
    "    #print(\"theta_1 is \" + str(theta1))\n",
    "    theta = 180 - theta0 - theta1\n",
    "    return theta\n",
    "\n",
    "\n",
    "def sector_area(theta,r):\n",
    "    return (theta*math.pi*r*r)/float(360)\n",
    "\n",
    "def circular_area(r):\n",
    "    return math.pi*r*r\n",
    "\n",
    "def isosceles_area(theta,r):\n",
    "    return (r*r*math.fabs(math.cos(theta/2)*math.sin(theta/2)))\n",
    "\n",
    "def find_probability(R,d):\n",
    "    #for given radii of outer circle (R) and target (d)\n",
    "    #return a comma-separated string consisting of:\n",
    "    #R, d, p\n",
    "    #where p is the probability of agent seeing the target\n",
    "    \n",
    "    r=float(R-d)\n",
    "    s=str(R) + \",\" + str(d) + \",\"\n",
    "    solns = solve_quadratic(1.25,float(R/2),float(((R*R)/4) - r*r))\n",
    "    \n",
    "    if solns==[]:\n",
    "        system.exit()  \n",
    "    \n",
    "    x0=solns[0]\n",
    "    x1=solns[1]\n",
    "    y0=line1(x0)\n",
    "    y1=line1(x1)\n",
    "    outer_circular_area = circular_area(R)\n",
    "    inner_circular_area = circular_area(r)\n",
    "    theta = sector_angle(y0,y1,r)\n",
    "    sect_area = sector_area(theta,r)\n",
    "    isos_area = isosceles_area(theta,r)\n",
    "    chord_area = sect_area - isos_area\n",
    "    \n",
    "    \n",
    "    viewable = inner_circular_area - 2*chord_area \n",
    "    prob_view = viewable/inner_circular_area\n",
    "    return s+str(prob_view)\n",
    "    \n",
    "    \n",
    "        \n",
    "        \n",
    "\n",
    "\n",
    "#start the main program here\n",
    "    \n",
    "    \n",
    "#solns0 = solve_quadratic(1.25,float(R/2),float(((R*R)/4) - r*r))\n",
    "solns0 = solve_quadratic(3,4*R,float(2*R*R - r*r))\n",
    "\n",
    "if solns0==[]:\n",
    "    print('graceful exit')\n",
    "    sys.exit()\n",
    "    \n",
    "\n",
    "x00=solns0[0]\n",
    "x10=solns0[1]\n",
    "\n",
    "y00=line1(x00)\n",
    "y10=line1(x10)\n",
    "print(\"The points of intersection of line 1 are:\\n\")\n",
    "print(\"(\" + str(x00) + \",\" + str(y00) + \")\\n\")\n",
    "print(\"(\" + str(x10) + \",\" + str(y10) + \")\\n\")\n",
    "\n",
    "\n",
    "y01=line2(x00)\n",
    "y11=line2(x10)\n",
    "print(\"The points of intersection of line 2 are:\\n\")\n",
    "print(\"(\" + str(x00) + \",\" + str(y01) + \")\\n\")\n",
    "print(\"(\" + str(x10) + \",\" + str(y11) + \")\\n\")\n",
    "    \n",
    "circle1 = create_circle(0,0,R,'r')\n",
    "circle2 = create_circle(0,0,r,'b')\n",
    "\n",
    "ax = plt.gca();\n",
    "ax.add_artist(circle1); \n",
    "ax.add_artist(circle2);\n",
    "ax.set_xlim(xmin, xmax); \n",
    "ax.set_ylim(ymin, ymax)\n",
    "ax.set_aspect('equal')\n",
    "    \n",
    "plt.plot([xmin, xmax],[line1(xmin),line1(xmax)],'g')\n",
    "plt.plot([xmin, xmax],[line1(xmin),line1(xmax)],'g')\n",
    "plt.plot([xmin, xmax],[line2(xmin),line2(xmax)],'g')\n",
    "plt.plot([xmin, xmax],[line2(xmin),line2(xmax)],'g')\n",
    "\n",
    "plt.plot([0,x00],[0,y00],'k--')\n",
    "plt.plot([0,x10],[0,y10],'k--')\n",
    "plt.plot([0,x00],[0,y01],'k--')\n",
    "plt.plot([0,x10],[0,y11],'k--')\n",
    "\n",
    "\n",
    "plt.savefig('example1.png')    \n",
    "plt.show()"
   ]
  },
  {
   "cell_type": "markdown",
   "metadata": {},
   "source": [
    "The viewable area is bounded by the green lines and the blue circle"
   ]
  },
  {
   "cell_type": "code",
   "execution_count": 5,
   "metadata": {},
   "outputs": [
    {
     "ename": "NameError",
     "evalue": "name 'y00' is not defined",
     "output_type": "error",
     "traceback": [
      "\u001b[0;31m---------------------------------------------------------------------------\u001b[0m",
      "\u001b[0;31mNameError\u001b[0m                                 Traceback (most recent call last)",
      "\u001b[0;32m<ipython-input-5-b1cfa5bcfe45>\u001b[0m in \u001b[0;36m<module>\u001b[0;34m()\u001b[0m\n\u001b[1;32m      3\u001b[0m \u001b[0mouter_circular_area\u001b[0m \u001b[0;34m=\u001b[0m \u001b[0mcircular_area\u001b[0m\u001b[0;34m(\u001b[0m\u001b[0mR\u001b[0m\u001b[0;34m)\u001b[0m\u001b[0;34m\u001b[0m\u001b[0m\n\u001b[1;32m      4\u001b[0m \u001b[0minner_circular_area\u001b[0m \u001b[0;34m=\u001b[0m \u001b[0mcircular_area\u001b[0m\u001b[0;34m(\u001b[0m\u001b[0mr\u001b[0m\u001b[0;34m)\u001b[0m\u001b[0;34m\u001b[0m\u001b[0m\n\u001b[0;32m----> 5\u001b[0;31m \u001b[0mtheta\u001b[0m \u001b[0;34m=\u001b[0m \u001b[0msector_angle\u001b[0m\u001b[0;34m(\u001b[0m\u001b[0my00\u001b[0m\u001b[0;34m,\u001b[0m\u001b[0my10\u001b[0m\u001b[0;34m,\u001b[0m\u001b[0mr\u001b[0m\u001b[0;34m)\u001b[0m\u001b[0;34m\u001b[0m\u001b[0m\n\u001b[0m\u001b[1;32m      6\u001b[0m \u001b[0msect_area\u001b[0m \u001b[0;34m=\u001b[0m \u001b[0msector_area\u001b[0m\u001b[0;34m(\u001b[0m\u001b[0mtheta\u001b[0m\u001b[0;34m,\u001b[0m\u001b[0mr\u001b[0m\u001b[0;34m)\u001b[0m\u001b[0;34m\u001b[0m\u001b[0m\n\u001b[1;32m      7\u001b[0m \u001b[0misos_area\u001b[0m \u001b[0;34m=\u001b[0m \u001b[0misosceles_area\u001b[0m\u001b[0;34m(\u001b[0m\u001b[0mtheta\u001b[0m\u001b[0;34m,\u001b[0m\u001b[0mr\u001b[0m\u001b[0;34m)\u001b[0m\u001b[0;34m\u001b[0m\u001b[0m\n",
      "\u001b[0;31mNameError\u001b[0m: name 'y00' is not defined"
     ]
    }
   ],
   "source": [
    "\n",
    "    \n",
    "outer_circular_area = circular_area(R)\n",
    "inner_circular_area = circular_area(r)\n",
    "theta = sector_angle(y00,y10,r)\n",
    "sect_area = sector_area(theta,r)\n",
    "isos_area = isosceles_area(theta,r)\n",
    "chord_area = sect_area - isos_area\n",
    "    \n",
    "    \n",
    "viewable = inner_circular_area - 2*chord_area #the area in which centre of the target can be placed to be viewable by the agent\n",
    "prob_view = viewable/inner_circular_area\n",
    "    \n",
    "print(\"The area of the large circle is \" + str(outer_circular_area))\n",
    "print(\"The area of the small circle is \" + str(inner_circular_area))\n",
    "print(\"The angle between the points of intersection is \" + str(theta))\n",
    "print(\"The area of the sector is \" + str(sect_area))\n",
    "print(\"The area of the isosceles is \" + str(isosceles_area))\n",
    "print(\"The area of each chord is \" + str(chord_area))\n",
    "print(\"The area viewable to the agent is \" + str(viewable))\n",
    "print(\"The probability that a target is viewable to the agent is \" + str(prob_view))"
   ]
  },
  {
   "cell_type": "markdown",
   "metadata": {
    "collapsed": true
   },
   "source": [
    "Now find the probability for a range of values, without the comments"
   ]
  },
  {
   "cell_type": "code",
   "execution_count": 9,
   "metadata": {},
   "outputs": [
    {
     "ename": "ValueError",
     "evalue": "math domain error",
     "output_type": "error",
     "traceback": [
      "\u001b[0;31m---------------------------------------------------------------------------\u001b[0m",
      "\u001b[0;31mValueError\u001b[0m                                Traceback (most recent call last)",
      "\u001b[0;32m<ipython-input-9-69e6ed310d85>\u001b[0m in \u001b[0;36m<module>\u001b[0;34m()\u001b[0m\n\u001b[1;32m      5\u001b[0m     \u001b[0md\u001b[0m\u001b[0;34m=\u001b[0m\u001b[0;36m5\u001b[0m\u001b[0;34m\u001b[0m\u001b[0m\n\u001b[1;32m      6\u001b[0m     \u001b[0;32mwhile\u001b[0m \u001b[0md\u001b[0m\u001b[0;34m<=\u001b[0m\u001b[0mR\u001b[0m\u001b[0;34m/\u001b[0m\u001b[0;36m2\u001b[0m\u001b[0;34m:\u001b[0m\u001b[0;34m\u001b[0m\u001b[0m\n\u001b[0;32m----> 7\u001b[0;31m         \u001b[0mnewString\u001b[0m \u001b[0;34m=\u001b[0m \u001b[0mfind_probability\u001b[0m\u001b[0;34m(\u001b[0m\u001b[0mR\u001b[0m\u001b[0;34m,\u001b[0m\u001b[0md\u001b[0m\u001b[0;34m)\u001b[0m \u001b[0;34m+\u001b[0m \u001b[0;34m\"\\n\"\u001b[0m\u001b[0;34m\u001b[0m\u001b[0m\n\u001b[0m\u001b[1;32m      8\u001b[0m         \u001b[0mprint\u001b[0m\u001b[0;34m(\u001b[0m\u001b[0mnewString\u001b[0m\u001b[0;34m)\u001b[0m\u001b[0;34m\u001b[0m\u001b[0m\n\u001b[1;32m      9\u001b[0m         \u001b[0mf\u001b[0m\u001b[0;34m.\u001b[0m\u001b[0mwrite\u001b[0m\u001b[0;34m(\u001b[0m\u001b[0mnewString\u001b[0m\u001b[0;34m)\u001b[0m\u001b[0;34m\u001b[0m\u001b[0m\n",
      "\u001b[0;32m<ipython-input-8-ea7a6865cd67>\u001b[0m in \u001b[0;36mfind_probability\u001b[0;34m(R, d)\u001b[0m\n\u001b[1;32m     54\u001b[0m     \u001b[0mouter_circular_area\u001b[0m \u001b[0;34m=\u001b[0m \u001b[0mcircular_area\u001b[0m\u001b[0;34m(\u001b[0m\u001b[0mR\u001b[0m\u001b[0;34m)\u001b[0m\u001b[0;34m\u001b[0m\u001b[0m\n\u001b[1;32m     55\u001b[0m     \u001b[0minner_circular_area\u001b[0m \u001b[0;34m=\u001b[0m \u001b[0mcircular_area\u001b[0m\u001b[0;34m(\u001b[0m\u001b[0mr\u001b[0m\u001b[0;34m)\u001b[0m\u001b[0;34m\u001b[0m\u001b[0m\n\u001b[0;32m---> 56\u001b[0;31m     \u001b[0mtheta\u001b[0m \u001b[0;34m=\u001b[0m \u001b[0msector_angle\u001b[0m\u001b[0;34m(\u001b[0m\u001b[0my0\u001b[0m\u001b[0;34m,\u001b[0m\u001b[0my1\u001b[0m\u001b[0;34m,\u001b[0m\u001b[0mr\u001b[0m\u001b[0;34m)\u001b[0m\u001b[0;34m\u001b[0m\u001b[0m\n\u001b[0m\u001b[1;32m     57\u001b[0m     \u001b[0msect_area\u001b[0m \u001b[0;34m=\u001b[0m \u001b[0msector_area\u001b[0m\u001b[0;34m(\u001b[0m\u001b[0mtheta\u001b[0m\u001b[0;34m,\u001b[0m\u001b[0mr\u001b[0m\u001b[0;34m)\u001b[0m\u001b[0;34m\u001b[0m\u001b[0m\n\u001b[1;32m     58\u001b[0m     \u001b[0misos_area\u001b[0m \u001b[0;34m=\u001b[0m \u001b[0misosceles_area\u001b[0m\u001b[0;34m(\u001b[0m\u001b[0mtheta\u001b[0m\u001b[0;34m,\u001b[0m\u001b[0mr\u001b[0m\u001b[0;34m)\u001b[0m\u001b[0;34m\u001b[0m\u001b[0m\n",
      "\u001b[0;32m<ipython-input-8-ea7a6865cd67>\u001b[0m in \u001b[0;36msector_angle\u001b[0;34m(y0, y1, r)\u001b[0m\n\u001b[1;32m     20\u001b[0m     \u001b[0mtheta0\u001b[0m \u001b[0;34m=\u001b[0m \u001b[0mmath\u001b[0m\u001b[0;34m.\u001b[0m\u001b[0mdegrees\u001b[0m\u001b[0;34m(\u001b[0m\u001b[0mmath\u001b[0m\u001b[0;34m.\u001b[0m\u001b[0masin\u001b[0m\u001b[0;34m(\u001b[0m\u001b[0my0\u001b[0m\u001b[0;34m/\u001b[0m\u001b[0mr\u001b[0m\u001b[0;34m)\u001b[0m\u001b[0;34m)\u001b[0m\u001b[0;34m\u001b[0m\u001b[0m\n\u001b[1;32m     21\u001b[0m     \u001b[0;31m#print(\"theta_0 is \" + str(theta0))\u001b[0m\u001b[0;34m\u001b[0m\u001b[0;34m\u001b[0m\u001b[0m\n\u001b[0;32m---> 22\u001b[0;31m     \u001b[0mtheta1\u001b[0m \u001b[0;34m=\u001b[0m \u001b[0mmath\u001b[0m\u001b[0;34m.\u001b[0m\u001b[0mdegrees\u001b[0m\u001b[0;34m(\u001b[0m\u001b[0mmath\u001b[0m\u001b[0;34m.\u001b[0m\u001b[0masin\u001b[0m\u001b[0;34m(\u001b[0m\u001b[0my1\u001b[0m\u001b[0;34m/\u001b[0m\u001b[0mr\u001b[0m\u001b[0;34m)\u001b[0m\u001b[0;34m)\u001b[0m\u001b[0;34m\u001b[0m\u001b[0m\n\u001b[0m\u001b[1;32m     23\u001b[0m     \u001b[0;31m#print(\"theta_1 is \" + str(theta1))\u001b[0m\u001b[0;34m\u001b[0m\u001b[0;34m\u001b[0m\u001b[0m\n\u001b[1;32m     24\u001b[0m     \u001b[0mtheta\u001b[0m \u001b[0;34m=\u001b[0m \u001b[0;36m180\u001b[0m \u001b[0;34m-\u001b[0m \u001b[0mtheta0\u001b[0m \u001b[0;34m-\u001b[0m \u001b[0mtheta1\u001b[0m\u001b[0;34m\u001b[0m\u001b[0m\n",
      "\u001b[0;31mValueError\u001b[0m: math domain error"
     ]
    }
   ],
   "source": [
    "f = open(\"example1_data.txt\", 'w')\n",
    "\n",
    "R=20\n",
    "while R<101:\n",
    "    d=5\n",
    "    while d<=R/2:\n",
    "        newString = find_probability(R,d) + \"\\n\"\n",
    "        print(newString)\n",
    "        f.write(newString)\n",
    "        d+=5\n",
    "    R+=10\n",
    "f.close()"
   ]
  },
  {
   "cell_type": "code",
   "execution_count": null,
   "metadata": {
    "collapsed": true
   },
   "outputs": [],
   "source": []
  },
  {
   "cell_type": "code",
   "execution_count": null,
   "metadata": {
    "collapsed": true
   },
   "outputs": [],
   "source": []
  }
 ],
 "metadata": {
  "kernelspec": {
   "display_name": "Python 3",
   "language": "python",
   "name": "python3"
  },
  "language_info": {
   "codemirror_mode": {
    "name": "ipython",
    "version": 3
   },
   "file_extension": ".py",
   "mimetype": "text/x-python",
   "name": "python",
   "nbconvert_exporter": "python",
   "pygments_lexer": "ipython3",
   "version": "3.6.5"
  }
 },
 "nbformat": 4,
 "nbformat_minor": 1
}
